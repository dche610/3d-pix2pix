{
 "cells": [
  {
   "cell_type": "markdown",
   "id": "2638e266",
   "metadata": {},
   "source": [
    "## Imports "
   ]
  },
  {
   "cell_type": "code",
   "execution_count": 1,
   "id": "dc4aebfa",
   "metadata": {},
   "outputs": [
    {
     "name": "stdout",
     "output_type": "stream",
     "text": [
      "Last run on Mon Oct 17 15:03:13 2022\n"
     ]
    }
   ],
   "source": [
    "import time\n",
    "from pathlib import Path\n",
    "from datetime import datetime\n",
    "\n",
    "import torch\n",
    "from torch.utils.data import random_split, DataLoader\n",
    "import pandas as pd\n",
    "import torchio as tio\n",
    "import pytorch_lightning as pl\n",
    "import matplotlib.pyplot as plt\n",
    "from scipy import stats\n",
    "import numpy as np\n",
    "from tqdm import tqdm\n",
    "\n",
    "from IPython import display\n",
    "from tqdm.notebook import tqdm\n",
    "\n",
    "plt.rcParams['figure.figsize'] = 12, 6\n",
    "\n",
    "print('Last run on', time.ctime())"
   ]
  },
  {
   "cell_type": "code",
   "execution_count": 2,
   "id": "f7c56c1f",
   "metadata": {},
   "outputs": [],
   "source": [
    "import os # fix plotting bug \n",
    "os.environ['KMP_DUPLICATE_LIB_OK'] = 'True'"
   ]
  },
  {
   "cell_type": "markdown",
   "id": "9956425f",
   "metadata": {},
   "source": [
    "## Histogram Standardization"
   ]
  },
  {
   "cell_type": "markdown",
   "id": "62bce2bc",
   "metadata": {},
   "source": [
    "We want to standardize image intensities across samples taken from different scanners by calculating the landmarks."
   ]
  },
  {
   "cell_type": "code",
   "execution_count": 3,
   "id": "54c805ce",
   "metadata": {},
   "outputs": [],
   "source": [
    "dataset_dir = Path('../data/original/3D')"
   ]
  },
  {
   "cell_type": "code",
   "execution_count": 4,
   "id": "6c0852fe",
   "metadata": {},
   "outputs": [],
   "source": [
    "train_dir = dataset_dir / 'images'\n",
    "test_dir = dataset_dir / 'test'\n",
    "input_paths = sorted(train_dir.glob('*.nii.gz'))\n",
    "test_paths = sorted(test_dir.glob('*.nii.gz'))"
   ]
  },
  {
   "cell_type": "code",
   "execution_count": 5,
   "id": "6ae45c1b",
   "metadata": {},
   "outputs": [],
   "source": [
    "paths = input_paths+test_paths"
   ]
  },
  {
   "cell_type": "code",
   "execution_count": 6,
   "id": "5384c7c4",
   "metadata": {},
   "outputs": [],
   "source": [
    "compute_landmarks=False\n",
    "\n",
    "if compute_landmarks:\n",
    "    landmarks = tio.HistogramStandardization.train(\n",
    "        paths,\n",
    "        output_path='landmarks.npy',\n",
    "    )\n",
    "    landmarks"
   ]
  },
  {
   "cell_type": "markdown",
   "id": "c0f34fe7",
   "metadata": {},
   "source": [
    "## Set up preprocessing transforms"
   ]
  },
  {
   "cell_type": "code",
   "execution_count": 8,
   "id": "e6b4507e",
   "metadata": {},
   "outputs": [],
   "source": [
    "def get_niis(d):\n",
    "    return sorted(p for p in d.glob('*.nii.gz*'))"
   ]
  },
  {
   "cell_type": "code",
   "execution_count": 9,
   "id": "e0ac285b",
   "metadata": {},
   "outputs": [],
   "source": [
    "image_training_paths = get_niis(dataset_dir / 'images') \n",
    "label_paths = get_niis(dataset_dir / 'labels')\n",
    "mask_paths = get_niis(dataset_dir / 'masks') \n",
    "image_test_paths = get_niis(dataset_dir / 'reference')"
   ]
  },
  {
   "cell_type": "code",
   "execution_count": 10,
   "id": "f2e1c85f",
   "metadata": {},
   "outputs": [],
   "source": [
    "train_names = os.listdir(path='../data/original/3D/images')\n",
    "test_names = os.listdir(path='../data/original/3D/reference')"
   ]
  },
  {
   "cell_type": "code",
   "execution_count": 11,
   "id": "02c81a43",
   "metadata": {},
   "outputs": [],
   "source": [
    "subjects = []\n",
    "for image_path, label_path, mask_path, train_name in zip(image_training_paths, label_paths, mask_paths, train_names):\n",
    "    subject = tio.Subject(\n",
    "        image=tio.ScalarImage(image_path),\n",
    "        label=tio.ScalarImage(label_path),\n",
    "        mask=tio.LabelMap(mask_path),\n",
    "        name=train_name\n",
    "    )\n",
    "    subjects.append(subject)\n",
    "\n",
    "test_subjects = []\n",
    "for image_test_path, test_name in zip(image_test_paths, test_names):\n",
    "    subject = tio.Subject(image=tio.ScalarImage(image_test_path), name=test_name)\n",
    "    test_subjects.append(subject)"
   ]
  },
  {
   "cell_type": "code",
   "execution_count": 12,
   "id": "e0a74188",
   "metadata": {},
   "outputs": [
    {
     "data": {
      "text/plain": [
       "[Subject(Keys: ('image', 'name'); images: 1),\n",
       " Subject(Keys: ('image', 'name'); images: 1)]"
      ]
     },
     "execution_count": 12,
     "metadata": {},
     "output_type": "execute_result"
    }
   ],
   "source": [
    "test_subjects"
   ]
  },
  {
   "cell_type": "code",
   "execution_count": null,
   "id": "53dc171f",
   "metadata": {},
   "outputs": [],
   "source": [
    "train_preprocess = tio.Compose([\n",
    "  tio.HistogramStandardization({'image': 'landmarks.npy', 'label': 'landmarks.npy'}), \n",
    "  tio.Clamp(out_min=0, out_max=255),\n",
    "  tio.CropOrPad([256, 256, 256]),\n",
    "  tio.Resample(2),  \n",
    "  tio.ZNormalization(masking_method=tio.ZNormalization.mean),\n",
    "  tio.Lambda(lambda x: 1 - x, types_to_apply=[tio.LABEL]),\n",
    "  tio.Mask(masking_method='mask', exclude='label'),  \n",
    "  tio.Lambda(lambda x: 1 - x, types_to_apply=[tio.LABEL])\n",
    "])"
   ]
  },
  {
   "cell_type": "code",
   "execution_count": 48,
   "id": "cc82736d",
   "metadata": {},
   "outputs": [],
   "source": [
    "test_preprocess = tio.Compose([\n",
    "  tio.HistogramStandardization({'image': 'landmarks.npy'}),\n",
    "  tio.Clamp(out_min=0, out_max=255),\n",
    "  tio.CropOrPad([256, 256, 256]),\n",
    "  tio.Resample(2),\n",
    "  tio.ZNormalization(masking_method=tio.ZNormalization.mean)\n",
    "])"
   ]
  },
  {
   "cell_type": "code",
   "execution_count": 50,
   "id": "786630f0",
   "metadata": {},
   "outputs": [],
   "source": [
    "train_set = tio.SubjectsDataset(subjects, transform=train_preprocess)\n",
    "test_set = tio.SubjectsDataset(test_subjects, transform=test_preprocess)"
   ]
  },
  {
   "cell_type": "code",
   "execution_count": 47,
   "id": "fd56f35f",
   "metadata": {},
   "outputs": [
    {
     "data": {
      "application/vnd.jupyter.widget-view+json": {
       "model_id": "2920f829abc546d597c07adfbadc8999",
       "version_major": 2,
       "version_minor": 0
      },
      "text/plain": [
       "  0%|          | 0/598 [00:00<?, ?it/s]"
      ]
     },
     "metadata": {},
     "output_type": "display_data"
    }
   ],
   "source": [
    "for i in tqdm(range(len(train_set))): \n",
    "    train_set[i].image.save(Path('../data/processed/preprocessed/train/images/preprocessed_'+train_set[i].name))\n",
    "    train_set[i].label.save(Path('../data/processed/preprocessed/train/labels/preprocessed_blended_'+train_set[i].name))\n",
    "    train_set[i].mask.save(Path('../data/processed/preprocessed/train/masks/preprocessed_mask_'+train_set[i].name))"
   ]
  },
  {
   "cell_type": "code",
   "execution_count": 48,
   "id": "570d50ef",
   "metadata": {},
   "outputs": [
    {
     "data": {
      "application/vnd.jupyter.widget-view+json": {
       "model_id": "61260c8fc515494289d8bd581ac10204",
       "version_major": 2,
       "version_minor": 0
      },
      "text/plain": [
       "  0%|          | 0/300 [00:00<?, ?it/s]"
      ]
     },
     "metadata": {},
     "output_type": "display_data"
    }
   ],
   "source": [
    "for i in tqdm(range(len(test_set))): \n",
    "    test_set[i].image.save(Path('../data/processed/preprocessed/test/images/preprocessed_'+test_set[i].name))"
   ]
  }
 ],
 "metadata": {
  "kernelspec": {
   "display_name": "Python 3 (ipykernel)",
   "language": "python",
   "name": "python3"
  },
  "language_info": {
   "codemirror_mode": {
    "name": "ipython",
    "version": 3
   },
   "file_extension": ".py",
   "mimetype": "text/x-python",
   "name": "python",
   "nbconvert_exporter": "python",
   "pygments_lexer": "ipython3",
   "version": "3.9.7"
  }
 },
 "nbformat": 4,
 "nbformat_minor": 5
}
